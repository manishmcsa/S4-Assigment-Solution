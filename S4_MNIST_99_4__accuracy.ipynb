{
  "nbformat": 4,
  "nbformat_minor": 0,
  "metadata": {
    "colab": {
      "name": "S4_MNIST_99.4%_accuracy.ipynb",
      "provenance": [],
      "collapsed_sections": [],
      "authorship_tag": "ABX9TyN7+ezsRLQ+H76083OEOJ/l",
      "include_colab_link": true
    },
    "kernelspec": {
      "name": "python3",
      "display_name": "Python 3"
    },
    "widgets": {
      "application/vnd.jupyter.widget-state+json": {
        "2fc26ecdf44342df89a1ed4180c81540": {
          "model_module": "@jupyter-widgets/controls",
          "model_name": "HBoxModel",
          "state": {
            "_view_name": "HBoxView",
            "_dom_classes": [],
            "_model_name": "HBoxModel",
            "_view_module": "@jupyter-widgets/controls",
            "_model_module_version": "1.5.0",
            "_view_count": null,
            "_view_module_version": "1.5.0",
            "box_style": "",
            "layout": "IPY_MODEL_e9a2ef962fd54e8288d4ef85915e2c74",
            "_model_module": "@jupyter-widgets/controls",
            "children": [
              "IPY_MODEL_b2a37575c1ea40a890acb6c60229c7d1",
              "IPY_MODEL_a523c42817f74fa2932475ed0f5e43d5"
            ]
          }
        },
        "e9a2ef962fd54e8288d4ef85915e2c74": {
          "model_module": "@jupyter-widgets/base",
          "model_name": "LayoutModel",
          "state": {
            "_view_name": "LayoutView",
            "grid_template_rows": null,
            "right": null,
            "justify_content": null,
            "_view_module": "@jupyter-widgets/base",
            "overflow": null,
            "_model_module_version": "1.2.0",
            "_view_count": null,
            "flex_flow": null,
            "width": null,
            "min_width": null,
            "border": null,
            "align_items": null,
            "bottom": null,
            "_model_module": "@jupyter-widgets/base",
            "top": null,
            "grid_column": null,
            "overflow_y": null,
            "overflow_x": null,
            "grid_auto_flow": null,
            "grid_area": null,
            "grid_template_columns": null,
            "flex": null,
            "_model_name": "LayoutModel",
            "justify_items": null,
            "grid_row": null,
            "max_height": null,
            "align_content": null,
            "visibility": null,
            "align_self": null,
            "height": null,
            "min_height": null,
            "padding": null,
            "grid_auto_rows": null,
            "grid_gap": null,
            "max_width": null,
            "order": null,
            "_view_module_version": "1.2.0",
            "grid_template_areas": null,
            "object_position": null,
            "object_fit": null,
            "grid_auto_columns": null,
            "margin": null,
            "display": null,
            "left": null
          }
        },
        "b2a37575c1ea40a890acb6c60229c7d1": {
          "model_module": "@jupyter-widgets/controls",
          "model_name": "FloatProgressModel",
          "state": {
            "_view_name": "ProgressView",
            "style": "IPY_MODEL_df1a5391290b48fb905c7498d9d8d9e4",
            "_dom_classes": [],
            "description": "",
            "_model_name": "FloatProgressModel",
            "bar_style": "info",
            "max": 1,
            "_view_module": "@jupyter-widgets/controls",
            "_model_module_version": "1.5.0",
            "value": 1,
            "_view_count": null,
            "_view_module_version": "1.5.0",
            "orientation": "horizontal",
            "min": 0,
            "description_tooltip": null,
            "_model_module": "@jupyter-widgets/controls",
            "layout": "IPY_MODEL_eac7283238e54ce4b4d62a2a03a56a84"
          }
        },
        "a523c42817f74fa2932475ed0f5e43d5": {
          "model_module": "@jupyter-widgets/controls",
          "model_name": "HTMLModel",
          "state": {
            "_view_name": "HTMLView",
            "style": "IPY_MODEL_7da3676eabdd4e078ba338f77e68f47a",
            "_dom_classes": [],
            "description": "",
            "_model_name": "HTMLModel",
            "placeholder": "​",
            "_view_module": "@jupyter-widgets/controls",
            "_model_module_version": "1.5.0",
            "value": " 9920512/? [00:20&lt;00:00, 14646441.63it/s]",
            "_view_count": null,
            "_view_module_version": "1.5.0",
            "description_tooltip": null,
            "_model_module": "@jupyter-widgets/controls",
            "layout": "IPY_MODEL_46174315c5714bb5af94ae67402caad2"
          }
        },
        "df1a5391290b48fb905c7498d9d8d9e4": {
          "model_module": "@jupyter-widgets/controls",
          "model_name": "ProgressStyleModel",
          "state": {
            "_view_name": "StyleView",
            "_model_name": "ProgressStyleModel",
            "description_width": "initial",
            "_view_module": "@jupyter-widgets/base",
            "_model_module_version": "1.5.0",
            "_view_count": null,
            "_view_module_version": "1.2.0",
            "bar_color": null,
            "_model_module": "@jupyter-widgets/controls"
          }
        },
        "eac7283238e54ce4b4d62a2a03a56a84": {
          "model_module": "@jupyter-widgets/base",
          "model_name": "LayoutModel",
          "state": {
            "_view_name": "LayoutView",
            "grid_template_rows": null,
            "right": null,
            "justify_content": null,
            "_view_module": "@jupyter-widgets/base",
            "overflow": null,
            "_model_module_version": "1.2.0",
            "_view_count": null,
            "flex_flow": null,
            "width": null,
            "min_width": null,
            "border": null,
            "align_items": null,
            "bottom": null,
            "_model_module": "@jupyter-widgets/base",
            "top": null,
            "grid_column": null,
            "overflow_y": null,
            "overflow_x": null,
            "grid_auto_flow": null,
            "grid_area": null,
            "grid_template_columns": null,
            "flex": null,
            "_model_name": "LayoutModel",
            "justify_items": null,
            "grid_row": null,
            "max_height": null,
            "align_content": null,
            "visibility": null,
            "align_self": null,
            "height": null,
            "min_height": null,
            "padding": null,
            "grid_auto_rows": null,
            "grid_gap": null,
            "max_width": null,
            "order": null,
            "_view_module_version": "1.2.0",
            "grid_template_areas": null,
            "object_position": null,
            "object_fit": null,
            "grid_auto_columns": null,
            "margin": null,
            "display": null,
            "left": null
          }
        },
        "7da3676eabdd4e078ba338f77e68f47a": {
          "model_module": "@jupyter-widgets/controls",
          "model_name": "DescriptionStyleModel",
          "state": {
            "_view_name": "StyleView",
            "_model_name": "DescriptionStyleModel",
            "description_width": "",
            "_view_module": "@jupyter-widgets/base",
            "_model_module_version": "1.5.0",
            "_view_count": null,
            "_view_module_version": "1.2.0",
            "_model_module": "@jupyter-widgets/controls"
          }
        },
        "46174315c5714bb5af94ae67402caad2": {
          "model_module": "@jupyter-widgets/base",
          "model_name": "LayoutModel",
          "state": {
            "_view_name": "LayoutView",
            "grid_template_rows": null,
            "right": null,
            "justify_content": null,
            "_view_module": "@jupyter-widgets/base",
            "overflow": null,
            "_model_module_version": "1.2.0",
            "_view_count": null,
            "flex_flow": null,
            "width": null,
            "min_width": null,
            "border": null,
            "align_items": null,
            "bottom": null,
            "_model_module": "@jupyter-widgets/base",
            "top": null,
            "grid_column": null,
            "overflow_y": null,
            "overflow_x": null,
            "grid_auto_flow": null,
            "grid_area": null,
            "grid_template_columns": null,
            "flex": null,
            "_model_name": "LayoutModel",
            "justify_items": null,
            "grid_row": null,
            "max_height": null,
            "align_content": null,
            "visibility": null,
            "align_self": null,
            "height": null,
            "min_height": null,
            "padding": null,
            "grid_auto_rows": null,
            "grid_gap": null,
            "max_width": null,
            "order": null,
            "_view_module_version": "1.2.0",
            "grid_template_areas": null,
            "object_position": null,
            "object_fit": null,
            "grid_auto_columns": null,
            "margin": null,
            "display": null,
            "left": null
          }
        },
        "d6529788e306423d999b24295bfdefe8": {
          "model_module": "@jupyter-widgets/controls",
          "model_name": "HBoxModel",
          "state": {
            "_view_name": "HBoxView",
            "_dom_classes": [],
            "_model_name": "HBoxModel",
            "_view_module": "@jupyter-widgets/controls",
            "_model_module_version": "1.5.0",
            "_view_count": null,
            "_view_module_version": "1.5.0",
            "box_style": "",
            "layout": "IPY_MODEL_96658966771e4c3e9d7d5c7747ea2f7b",
            "_model_module": "@jupyter-widgets/controls",
            "children": [
              "IPY_MODEL_aa57e63baefb4643b7b3118845f688c9",
              "IPY_MODEL_d121a664b2244ef69394f069852c80c4"
            ]
          }
        },
        "96658966771e4c3e9d7d5c7747ea2f7b": {
          "model_module": "@jupyter-widgets/base",
          "model_name": "LayoutModel",
          "state": {
            "_view_name": "LayoutView",
            "grid_template_rows": null,
            "right": null,
            "justify_content": null,
            "_view_module": "@jupyter-widgets/base",
            "overflow": null,
            "_model_module_version": "1.2.0",
            "_view_count": null,
            "flex_flow": null,
            "width": null,
            "min_width": null,
            "border": null,
            "align_items": null,
            "bottom": null,
            "_model_module": "@jupyter-widgets/base",
            "top": null,
            "grid_column": null,
            "overflow_y": null,
            "overflow_x": null,
            "grid_auto_flow": null,
            "grid_area": null,
            "grid_template_columns": null,
            "flex": null,
            "_model_name": "LayoutModel",
            "justify_items": null,
            "grid_row": null,
            "max_height": null,
            "align_content": null,
            "visibility": null,
            "align_self": null,
            "height": null,
            "min_height": null,
            "padding": null,
            "grid_auto_rows": null,
            "grid_gap": null,
            "max_width": null,
            "order": null,
            "_view_module_version": "1.2.0",
            "grid_template_areas": null,
            "object_position": null,
            "object_fit": null,
            "grid_auto_columns": null,
            "margin": null,
            "display": null,
            "left": null
          }
        },
        "aa57e63baefb4643b7b3118845f688c9": {
          "model_module": "@jupyter-widgets/controls",
          "model_name": "FloatProgressModel",
          "state": {
            "_view_name": "ProgressView",
            "style": "IPY_MODEL_994274c42dba4c01882287ad3ec770b3",
            "_dom_classes": [],
            "description": "",
            "_model_name": "FloatProgressModel",
            "bar_style": "success",
            "max": 1,
            "_view_module": "@jupyter-widgets/controls",
            "_model_module_version": "1.5.0",
            "value": 1,
            "_view_count": null,
            "_view_module_version": "1.5.0",
            "orientation": "horizontal",
            "min": 0,
            "description_tooltip": null,
            "_model_module": "@jupyter-widgets/controls",
            "layout": "IPY_MODEL_a7e3c05640f344d298f3ebd290f2e71e"
          }
        },
        "d121a664b2244ef69394f069852c80c4": {
          "model_module": "@jupyter-widgets/controls",
          "model_name": "HTMLModel",
          "state": {
            "_view_name": "HTMLView",
            "style": "IPY_MODEL_dec0f7d7e2b3409e98346c188ca6ba67",
            "_dom_classes": [],
            "description": "",
            "_model_name": "HTMLModel",
            "placeholder": "​",
            "_view_module": "@jupyter-widgets/controls",
            "_model_module_version": "1.5.0",
            "value": " 32768/? [00:00&lt;00:00, 81408.16it/s]",
            "_view_count": null,
            "_view_module_version": "1.5.0",
            "description_tooltip": null,
            "_model_module": "@jupyter-widgets/controls",
            "layout": "IPY_MODEL_792b1314cd0d48469a7f67f3048c27b5"
          }
        },
        "994274c42dba4c01882287ad3ec770b3": {
          "model_module": "@jupyter-widgets/controls",
          "model_name": "ProgressStyleModel",
          "state": {
            "_view_name": "StyleView",
            "_model_name": "ProgressStyleModel",
            "description_width": "initial",
            "_view_module": "@jupyter-widgets/base",
            "_model_module_version": "1.5.0",
            "_view_count": null,
            "_view_module_version": "1.2.0",
            "bar_color": null,
            "_model_module": "@jupyter-widgets/controls"
          }
        },
        "a7e3c05640f344d298f3ebd290f2e71e": {
          "model_module": "@jupyter-widgets/base",
          "model_name": "LayoutModel",
          "state": {
            "_view_name": "LayoutView",
            "grid_template_rows": null,
            "right": null,
            "justify_content": null,
            "_view_module": "@jupyter-widgets/base",
            "overflow": null,
            "_model_module_version": "1.2.0",
            "_view_count": null,
            "flex_flow": null,
            "width": null,
            "min_width": null,
            "border": null,
            "align_items": null,
            "bottom": null,
            "_model_module": "@jupyter-widgets/base",
            "top": null,
            "grid_column": null,
            "overflow_y": null,
            "overflow_x": null,
            "grid_auto_flow": null,
            "grid_area": null,
            "grid_template_columns": null,
            "flex": null,
            "_model_name": "LayoutModel",
            "justify_items": null,
            "grid_row": null,
            "max_height": null,
            "align_content": null,
            "visibility": null,
            "align_self": null,
            "height": null,
            "min_height": null,
            "padding": null,
            "grid_auto_rows": null,
            "grid_gap": null,
            "max_width": null,
            "order": null,
            "_view_module_version": "1.2.0",
            "grid_template_areas": null,
            "object_position": null,
            "object_fit": null,
            "grid_auto_columns": null,
            "margin": null,
            "display": null,
            "left": null
          }
        },
        "dec0f7d7e2b3409e98346c188ca6ba67": {
          "model_module": "@jupyter-widgets/controls",
          "model_name": "DescriptionStyleModel",
          "state": {
            "_view_name": "StyleView",
            "_model_name": "DescriptionStyleModel",
            "description_width": "",
            "_view_module": "@jupyter-widgets/base",
            "_model_module_version": "1.5.0",
            "_view_count": null,
            "_view_module_version": "1.2.0",
            "_model_module": "@jupyter-widgets/controls"
          }
        },
        "792b1314cd0d48469a7f67f3048c27b5": {
          "model_module": "@jupyter-widgets/base",
          "model_name": "LayoutModel",
          "state": {
            "_view_name": "LayoutView",
            "grid_template_rows": null,
            "right": null,
            "justify_content": null,
            "_view_module": "@jupyter-widgets/base",
            "overflow": null,
            "_model_module_version": "1.2.0",
            "_view_count": null,
            "flex_flow": null,
            "width": null,
            "min_width": null,
            "border": null,
            "align_items": null,
            "bottom": null,
            "_model_module": "@jupyter-widgets/base",
            "top": null,
            "grid_column": null,
            "overflow_y": null,
            "overflow_x": null,
            "grid_auto_flow": null,
            "grid_area": null,
            "grid_template_columns": null,
            "flex": null,
            "_model_name": "LayoutModel",
            "justify_items": null,
            "grid_row": null,
            "max_height": null,
            "align_content": null,
            "visibility": null,
            "align_self": null,
            "height": null,
            "min_height": null,
            "padding": null,
            "grid_auto_rows": null,
            "grid_gap": null,
            "max_width": null,
            "order": null,
            "_view_module_version": "1.2.0",
            "grid_template_areas": null,
            "object_position": null,
            "object_fit": null,
            "grid_auto_columns": null,
            "margin": null,
            "display": null,
            "left": null
          }
        },
        "2b27f57ee0824f0eb0e5d02f5fd5f7f8": {
          "model_module": "@jupyter-widgets/controls",
          "model_name": "HBoxModel",
          "state": {
            "_view_name": "HBoxView",
            "_dom_classes": [],
            "_model_name": "HBoxModel",
            "_view_module": "@jupyter-widgets/controls",
            "_model_module_version": "1.5.0",
            "_view_count": null,
            "_view_module_version": "1.5.0",
            "box_style": "",
            "layout": "IPY_MODEL_a78508bc3717428abf54d10dda2e5e92",
            "_model_module": "@jupyter-widgets/controls",
            "children": [
              "IPY_MODEL_2aa7c92f5ff54a7abd1fce859068c551",
              "IPY_MODEL_6d0231bc255645328224f25299d93804"
            ]
          }
        },
        "a78508bc3717428abf54d10dda2e5e92": {
          "model_module": "@jupyter-widgets/base",
          "model_name": "LayoutModel",
          "state": {
            "_view_name": "LayoutView",
            "grid_template_rows": null,
            "right": null,
            "justify_content": null,
            "_view_module": "@jupyter-widgets/base",
            "overflow": null,
            "_model_module_version": "1.2.0",
            "_view_count": null,
            "flex_flow": null,
            "width": null,
            "min_width": null,
            "border": null,
            "align_items": null,
            "bottom": null,
            "_model_module": "@jupyter-widgets/base",
            "top": null,
            "grid_column": null,
            "overflow_y": null,
            "overflow_x": null,
            "grid_auto_flow": null,
            "grid_area": null,
            "grid_template_columns": null,
            "flex": null,
            "_model_name": "LayoutModel",
            "justify_items": null,
            "grid_row": null,
            "max_height": null,
            "align_content": null,
            "visibility": null,
            "align_self": null,
            "height": null,
            "min_height": null,
            "padding": null,
            "grid_auto_rows": null,
            "grid_gap": null,
            "max_width": null,
            "order": null,
            "_view_module_version": "1.2.0",
            "grid_template_areas": null,
            "object_position": null,
            "object_fit": null,
            "grid_auto_columns": null,
            "margin": null,
            "display": null,
            "left": null
          }
        },
        "2aa7c92f5ff54a7abd1fce859068c551": {
          "model_module": "@jupyter-widgets/controls",
          "model_name": "FloatProgressModel",
          "state": {
            "_view_name": "ProgressView",
            "style": "IPY_MODEL_3c4106b32b974920813e10b6bb346968",
            "_dom_classes": [],
            "description": "",
            "_model_name": "FloatProgressModel",
            "bar_style": "success",
            "max": 1,
            "_view_module": "@jupyter-widgets/controls",
            "_model_module_version": "1.5.0",
            "value": 1,
            "_view_count": null,
            "_view_module_version": "1.5.0",
            "orientation": "horizontal",
            "min": 0,
            "description_tooltip": null,
            "_model_module": "@jupyter-widgets/controls",
            "layout": "IPY_MODEL_a4ff5ec93a224878b039b921b5396ebd"
          }
        },
        "6d0231bc255645328224f25299d93804": {
          "model_module": "@jupyter-widgets/controls",
          "model_name": "HTMLModel",
          "state": {
            "_view_name": "HTMLView",
            "style": "IPY_MODEL_df5e5559d36541e38b273135dc4d5a76",
            "_dom_classes": [],
            "description": "",
            "_model_name": "HTMLModel",
            "placeholder": "​",
            "_view_module": "@jupyter-widgets/controls",
            "_model_module_version": "1.5.0",
            "value": " 1654784/? [00:00&lt;00:00, 5738744.50it/s]",
            "_view_count": null,
            "_view_module_version": "1.5.0",
            "description_tooltip": null,
            "_model_module": "@jupyter-widgets/controls",
            "layout": "IPY_MODEL_26c832ad58f7495cbcd95acfea2de686"
          }
        },
        "3c4106b32b974920813e10b6bb346968": {
          "model_module": "@jupyter-widgets/controls",
          "model_name": "ProgressStyleModel",
          "state": {
            "_view_name": "StyleView",
            "_model_name": "ProgressStyleModel",
            "description_width": "initial",
            "_view_module": "@jupyter-widgets/base",
            "_model_module_version": "1.5.0",
            "_view_count": null,
            "_view_module_version": "1.2.0",
            "bar_color": null,
            "_model_module": "@jupyter-widgets/controls"
          }
        },
        "a4ff5ec93a224878b039b921b5396ebd": {
          "model_module": "@jupyter-widgets/base",
          "model_name": "LayoutModel",
          "state": {
            "_view_name": "LayoutView",
            "grid_template_rows": null,
            "right": null,
            "justify_content": null,
            "_view_module": "@jupyter-widgets/base",
            "overflow": null,
            "_model_module_version": "1.2.0",
            "_view_count": null,
            "flex_flow": null,
            "width": null,
            "min_width": null,
            "border": null,
            "align_items": null,
            "bottom": null,
            "_model_module": "@jupyter-widgets/base",
            "top": null,
            "grid_column": null,
            "overflow_y": null,
            "overflow_x": null,
            "grid_auto_flow": null,
            "grid_area": null,
            "grid_template_columns": null,
            "flex": null,
            "_model_name": "LayoutModel",
            "justify_items": null,
            "grid_row": null,
            "max_height": null,
            "align_content": null,
            "visibility": null,
            "align_self": null,
            "height": null,
            "min_height": null,
            "padding": null,
            "grid_auto_rows": null,
            "grid_gap": null,
            "max_width": null,
            "order": null,
            "_view_module_version": "1.2.0",
            "grid_template_areas": null,
            "object_position": null,
            "object_fit": null,
            "grid_auto_columns": null,
            "margin": null,
            "display": null,
            "left": null
          }
        },
        "df5e5559d36541e38b273135dc4d5a76": {
          "model_module": "@jupyter-widgets/controls",
          "model_name": "DescriptionStyleModel",
          "state": {
            "_view_name": "StyleView",
            "_model_name": "DescriptionStyleModel",
            "description_width": "",
            "_view_module": "@jupyter-widgets/base",
            "_model_module_version": "1.5.0",
            "_view_count": null,
            "_view_module_version": "1.2.0",
            "_model_module": "@jupyter-widgets/controls"
          }
        },
        "26c832ad58f7495cbcd95acfea2de686": {
          "model_module": "@jupyter-widgets/base",
          "model_name": "LayoutModel",
          "state": {
            "_view_name": "LayoutView",
            "grid_template_rows": null,
            "right": null,
            "justify_content": null,
            "_view_module": "@jupyter-widgets/base",
            "overflow": null,
            "_model_module_version": "1.2.0",
            "_view_count": null,
            "flex_flow": null,
            "width": null,
            "min_width": null,
            "border": null,
            "align_items": null,
            "bottom": null,
            "_model_module": "@jupyter-widgets/base",
            "top": null,
            "grid_column": null,
            "overflow_y": null,
            "overflow_x": null,
            "grid_auto_flow": null,
            "grid_area": null,
            "grid_template_columns": null,
            "flex": null,
            "_model_name": "LayoutModel",
            "justify_items": null,
            "grid_row": null,
            "max_height": null,
            "align_content": null,
            "visibility": null,
            "align_self": null,
            "height": null,
            "min_height": null,
            "padding": null,
            "grid_auto_rows": null,
            "grid_gap": null,
            "max_width": null,
            "order": null,
            "_view_module_version": "1.2.0",
            "grid_template_areas": null,
            "object_position": null,
            "object_fit": null,
            "grid_auto_columns": null,
            "margin": null,
            "display": null,
            "left": null
          }
        },
        "23bba10958744bb9beac3ceea150d820": {
          "model_module": "@jupyter-widgets/controls",
          "model_name": "HBoxModel",
          "state": {
            "_view_name": "HBoxView",
            "_dom_classes": [],
            "_model_name": "HBoxModel",
            "_view_module": "@jupyter-widgets/controls",
            "_model_module_version": "1.5.0",
            "_view_count": null,
            "_view_module_version": "1.5.0",
            "box_style": "",
            "layout": "IPY_MODEL_cd2779e854bf4e13a88da787afc7ab18",
            "_model_module": "@jupyter-widgets/controls",
            "children": [
              "IPY_MODEL_4db2f5f59e9c4da694a9c2a258986a7b",
              "IPY_MODEL_331c012e0e934078bd944bf8d65f41b3"
            ]
          }
        },
        "cd2779e854bf4e13a88da787afc7ab18": {
          "model_module": "@jupyter-widgets/base",
          "model_name": "LayoutModel",
          "state": {
            "_view_name": "LayoutView",
            "grid_template_rows": null,
            "right": null,
            "justify_content": null,
            "_view_module": "@jupyter-widgets/base",
            "overflow": null,
            "_model_module_version": "1.2.0",
            "_view_count": null,
            "flex_flow": null,
            "width": null,
            "min_width": null,
            "border": null,
            "align_items": null,
            "bottom": null,
            "_model_module": "@jupyter-widgets/base",
            "top": null,
            "grid_column": null,
            "overflow_y": null,
            "overflow_x": null,
            "grid_auto_flow": null,
            "grid_area": null,
            "grid_template_columns": null,
            "flex": null,
            "_model_name": "LayoutModel",
            "justify_items": null,
            "grid_row": null,
            "max_height": null,
            "align_content": null,
            "visibility": null,
            "align_self": null,
            "height": null,
            "min_height": null,
            "padding": null,
            "grid_auto_rows": null,
            "grid_gap": null,
            "max_width": null,
            "order": null,
            "_view_module_version": "1.2.0",
            "grid_template_areas": null,
            "object_position": null,
            "object_fit": null,
            "grid_auto_columns": null,
            "margin": null,
            "display": null,
            "left": null
          }
        },
        "4db2f5f59e9c4da694a9c2a258986a7b": {
          "model_module": "@jupyter-widgets/controls",
          "model_name": "FloatProgressModel",
          "state": {
            "_view_name": "ProgressView",
            "style": "IPY_MODEL_ed23c66832f844c5a1e4b2978e0c4ff6",
            "_dom_classes": [],
            "description": "",
            "_model_name": "FloatProgressModel",
            "bar_style": "info",
            "max": 1,
            "_view_module": "@jupyter-widgets/controls",
            "_model_module_version": "1.5.0",
            "value": 0,
            "_view_count": null,
            "_view_module_version": "1.5.0",
            "orientation": "horizontal",
            "min": 0,
            "description_tooltip": null,
            "_model_module": "@jupyter-widgets/controls",
            "layout": "IPY_MODEL_7242620bf667482caf20e2e3b3a714af"
          }
        },
        "331c012e0e934078bd944bf8d65f41b3": {
          "model_module": "@jupyter-widgets/controls",
          "model_name": "HTMLModel",
          "state": {
            "_view_name": "HTMLView",
            "style": "IPY_MODEL_d38fd83421994ec4b2d167ebef678779",
            "_dom_classes": [],
            "description": "",
            "_model_name": "HTMLModel",
            "placeholder": "​",
            "_view_module": "@jupyter-widgets/controls",
            "_model_module_version": "1.5.0",
            "value": " 0/? [00:00&lt;?, ?it/s]",
            "_view_count": null,
            "_view_module_version": "1.5.0",
            "description_tooltip": null,
            "_model_module": "@jupyter-widgets/controls",
            "layout": "IPY_MODEL_a4b566cd1cc94b85bada06e407882f08"
          }
        },
        "ed23c66832f844c5a1e4b2978e0c4ff6": {
          "model_module": "@jupyter-widgets/controls",
          "model_name": "ProgressStyleModel",
          "state": {
            "_view_name": "StyleView",
            "_model_name": "ProgressStyleModel",
            "description_width": "initial",
            "_view_module": "@jupyter-widgets/base",
            "_model_module_version": "1.5.0",
            "_view_count": null,
            "_view_module_version": "1.2.0",
            "bar_color": null,
            "_model_module": "@jupyter-widgets/controls"
          }
        },
        "7242620bf667482caf20e2e3b3a714af": {
          "model_module": "@jupyter-widgets/base",
          "model_name": "LayoutModel",
          "state": {
            "_view_name": "LayoutView",
            "grid_template_rows": null,
            "right": null,
            "justify_content": null,
            "_view_module": "@jupyter-widgets/base",
            "overflow": null,
            "_model_module_version": "1.2.0",
            "_view_count": null,
            "flex_flow": null,
            "width": null,
            "min_width": null,
            "border": null,
            "align_items": null,
            "bottom": null,
            "_model_module": "@jupyter-widgets/base",
            "top": null,
            "grid_column": null,
            "overflow_y": null,
            "overflow_x": null,
            "grid_auto_flow": null,
            "grid_area": null,
            "grid_template_columns": null,
            "flex": null,
            "_model_name": "LayoutModel",
            "justify_items": null,
            "grid_row": null,
            "max_height": null,
            "align_content": null,
            "visibility": null,
            "align_self": null,
            "height": null,
            "min_height": null,
            "padding": null,
            "grid_auto_rows": null,
            "grid_gap": null,
            "max_width": null,
            "order": null,
            "_view_module_version": "1.2.0",
            "grid_template_areas": null,
            "object_position": null,
            "object_fit": null,
            "grid_auto_columns": null,
            "margin": null,
            "display": null,
            "left": null
          }
        },
        "d38fd83421994ec4b2d167ebef678779": {
          "model_module": "@jupyter-widgets/controls",
          "model_name": "DescriptionStyleModel",
          "state": {
            "_view_name": "StyleView",
            "_model_name": "DescriptionStyleModel",
            "description_width": "",
            "_view_module": "@jupyter-widgets/base",
            "_model_module_version": "1.5.0",
            "_view_count": null,
            "_view_module_version": "1.2.0",
            "_model_module": "@jupyter-widgets/controls"
          }
        },
        "a4b566cd1cc94b85bada06e407882f08": {
          "model_module": "@jupyter-widgets/base",
          "model_name": "LayoutModel",
          "state": {
            "_view_name": "LayoutView",
            "grid_template_rows": null,
            "right": null,
            "justify_content": null,
            "_view_module": "@jupyter-widgets/base",
            "overflow": null,
            "_model_module_version": "1.2.0",
            "_view_count": null,
            "flex_flow": null,
            "width": null,
            "min_width": null,
            "border": null,
            "align_items": null,
            "bottom": null,
            "_model_module": "@jupyter-widgets/base",
            "top": null,
            "grid_column": null,
            "overflow_y": null,
            "overflow_x": null,
            "grid_auto_flow": null,
            "grid_area": null,
            "grid_template_columns": null,
            "flex": null,
            "_model_name": "LayoutModel",
            "justify_items": null,
            "grid_row": null,
            "max_height": null,
            "align_content": null,
            "visibility": null,
            "align_self": null,
            "height": null,
            "min_height": null,
            "padding": null,
            "grid_auto_rows": null,
            "grid_gap": null,
            "max_width": null,
            "order": null,
            "_view_module_version": "1.2.0",
            "grid_template_areas": null,
            "object_position": null,
            "object_fit": null,
            "grid_auto_columns": null,
            "margin": null,
            "display": null,
            "left": null
          }
        }
      }
    }
  },
  "cells": [
    {
      "cell_type": "markdown",
      "metadata": {
        "id": "view-in-github",
        "colab_type": "text"
      },
      "source": [
        "<a href=\"https://colab.research.google.com/github/manishmcsa/S4-Assigment-Solution/blob/main/S4_MNIST_99_4__accuracy.ipynb\" target=\"_parent\"><img src=\"https://colab.research.google.com/assets/colab-badge.svg\" alt=\"Open In Colab\"/></a>"
      ]
    },
    {
      "cell_type": "code",
      "metadata": {
        "id": "t3hN3Hoht8rr"
      },
      "source": [
        "#Importing Libraries\r\n",
        "import torch # Importing Pytorch library\r\n",
        "import torch.nn as nn # import torch library for neyral nets\r\n",
        "import torch.nn.functional as F # Importing torch library for performing arthmetic \r\n",
        "import torch.optim as optim  # implementing various optimization algorithms\r\n",
        "import torchvision as torchvision\r\n",
        "from torchvision import datasets, transforms # package consists of popular datasets, model architectures, and common image transformations for computer vision"
      ],
      "execution_count": 1,
      "outputs": []
    },
    {
      "cell_type": "code",
      "metadata": {
        "id": "BEEgQs0Wt9eW"
      },
      "source": [
        "class Net(nn.Module):\r\n",
        "    def __init__(self):\r\n",
        "        super(Net, self).__init__()\r\n",
        "        \r\n",
        "        self.conv1 = nn.Sequential(\r\n",
        "            nn.Conv2d(1, 16, 3, padding=1),  # Input : 28x28x1    Output : 28x28x16\r\n",
        "            nn.ReLU(),                       # Input : 28x28x16    Output : 28x28x16\r\n",
        "            nn.BatchNorm2d(16),              # Input : 28x28x16    Output : 28x28x16\r\n",
        "            nn.Dropout(0.25),                # Input : 28x28x16    Output : 28x28x16\r\n",
        "            nn.Conv2d(16, 16, 3, padding=1), # Input : 28x28x16    Output : 28x28x16\r\n",
        "            nn.ReLU(),                       # Input : 28x28x16    Output : 28x28x16\r\n",
        "            nn.BatchNorm2d(16),              # Input : 28x28x16    Output : 28x28x16\r\n",
        "            #nn.Dropout(0.25),\r\n",
        "            nn.Conv2d(16, 16, 3, stride=2, padding=1), # Input : 14x14x16    Output : 14x14x16\r\n",
        "            nn.ReLU(),                                 # Input : 14x14x16    Output : 14x14x16\r\n",
        "            nn.BatchNorm2d(16),                        # Input : 14x14x16    Output : 7x7x16\r\n",
        "            nn.MaxPool2d(2, 2),                        # Input : 7x7x16    Output : 7x7x16\r\n",
        "            nn.Dropout(0.25)\r\n",
        "        )\r\n",
        "        \r\n",
        "        self.conv2 = nn.Sequential(\r\n",
        "            nn.Conv2d(16, 32, 3, padding=1),           # Input : 7x7x16     Output : 7x7x32\r\n",
        "            nn.ReLU(),                                 # Input : 7x7x32     Output : 7x7x32\r\n",
        "            nn.BatchNorm2d(32),                        # Input : 7x7x32     Output : 7x7x32\r\n",
        "            nn.Dropout(0.25),                          # Input : 7x7x32     Output : 7x7x32\r\n",
        "            nn.Conv2d(32, 32, 3, padding=1),           # Input : 7x7x32     Output : 7x7x32\r\n",
        "            nn.ReLU(),                                 # Input : 7x7x32     Output : 7x7x32 \r\n",
        "            nn.BatchNorm2d(32),                        # Input : 7x7x32     Output : 7x7x32\r\n",
        "            #nn.Dropout(0.25),\r\n",
        "            nn.Conv2d(32, 32, 3, stride=2, padding=1), # Input : 7x7x32     Output : 4x4x32\r\n",
        "            nn.ReLU(),                                 # Input : 4x4x32     Output : 4x4x32\r\n",
        "            nn.BatchNorm2d(32),                        # Input : 4x4x32     Output : 4x4x32\r\n",
        "            nn.MaxPool2d(2, 2),                        # Input : 4x4x32     Output : 2x2x32\r\n",
        "            nn.Dropout(0.25)                           # Input : 2x2x32     Output : 2x2x32\r\n",
        "        )\r\n",
        "        \r\n",
        "        self.conv3 = nn.Sequential(\r\n",
        "            nn.Conv2d(32, 10, 3, padding=1),           # Input : 2x2x32     Output : 2x2x10\r\n",
        "            nn.ReLU(),                                 # Input : 2x2x10     Output : 2x2x10\r\n",
        "            nn.BatchNorm2d(10),                        # Input : 2x2x10     Output : 2x2x10\r\n",
        "            #nn.MaxPool2d(2, 2),\r\n",
        "            nn.Dropout(0.25)                           # Input : 2x2x10     Output : 2x2x10\r\n",
        "        )\r\n",
        "        \r\n",
        "        self.pool1=nn.AvgPool2d(2,2)                   # Input : 2x2x10     Output : 1x1x10\r\n",
        "                \r\n",
        "        \r\n",
        "    def forward(self, x):\r\n",
        "        x = self.conv1(x)                              # forward activation function using relu\r\n",
        "        x = self.conv2(x)                              # forward activation function using relu\r\n",
        "        x = self.conv3(x)                              # forward activation function using relu\r\n",
        "        x = self.pool1(x)                              # forward activation function using relu\r\n",
        "        x = x.view(x.size(0), -1)                      # Ouput layer\r\n",
        "        \r\n",
        "        x = F.log_softmax(x, dim=1)                    # Prediction from CNN loglikelyhood\r\n",
        "        return x"
      ],
      "execution_count": 2,
      "outputs": []
    },
    {
      "cell_type": "code",
      "metadata": {
        "colab": {
          "base_uri": "https://localhost:8080/"
        },
        "id": "MrvbLzXlt_VM",
        "outputId": "9cd69702-54dd-4b30-b391-714d80b47b3a"
      },
      "source": [
        "# undesratnding and printing the network structure and summary\r\n",
        "!pip install torchsummary # package to print model summary\r\n",
        "from torchsummary import summary # package to print model summary\r\n",
        "use_cuda = torch.cuda.is_available() # toc check is GPU is available\r\n",
        "device = torch.device(\"cuda\" if use_cuda else \"cpu\") # enable device to GPU if available otherwise CPU\r\n",
        "model=Net().to(device) #sending model to GPU\r\n",
        "summary(model, input_size=(1, 28, 28)) # printing model summary"
      ],
      "execution_count": 3,
      "outputs": [
        {
          "output_type": "stream",
          "text": [
            "Requirement already satisfied: torchsummary in /usr/local/lib/python3.6/dist-packages (1.5.1)\n",
            "----------------------------------------------------------------\n",
            "        Layer (type)               Output Shape         Param #\n",
            "================================================================\n",
            "            Conv2d-1           [-1, 16, 28, 28]             160\n",
            "              ReLU-2           [-1, 16, 28, 28]               0\n",
            "       BatchNorm2d-3           [-1, 16, 28, 28]              32\n",
            "           Dropout-4           [-1, 16, 28, 28]               0\n",
            "            Conv2d-5           [-1, 16, 28, 28]           2,320\n",
            "              ReLU-6           [-1, 16, 28, 28]               0\n",
            "       BatchNorm2d-7           [-1, 16, 28, 28]              32\n",
            "            Conv2d-8           [-1, 16, 14, 14]           2,320\n",
            "              ReLU-9           [-1, 16, 14, 14]               0\n",
            "      BatchNorm2d-10           [-1, 16, 14, 14]              32\n",
            "        MaxPool2d-11             [-1, 16, 7, 7]               0\n",
            "          Dropout-12             [-1, 16, 7, 7]               0\n",
            "           Conv2d-13             [-1, 32, 7, 7]           4,640\n",
            "             ReLU-14             [-1, 32, 7, 7]               0\n",
            "      BatchNorm2d-15             [-1, 32, 7, 7]              64\n",
            "          Dropout-16             [-1, 32, 7, 7]               0\n",
            "           Conv2d-17             [-1, 32, 7, 7]           9,248\n",
            "             ReLU-18             [-1, 32, 7, 7]               0\n",
            "      BatchNorm2d-19             [-1, 32, 7, 7]              64\n",
            "           Conv2d-20             [-1, 32, 4, 4]           9,248\n",
            "             ReLU-21             [-1, 32, 4, 4]               0\n",
            "      BatchNorm2d-22             [-1, 32, 4, 4]              64\n",
            "        MaxPool2d-23             [-1, 32, 2, 2]               0\n",
            "          Dropout-24             [-1, 32, 2, 2]               0\n",
            "           Conv2d-25             [-1, 10, 2, 2]           2,890\n",
            "             ReLU-26             [-1, 10, 2, 2]               0\n",
            "      BatchNorm2d-27             [-1, 10, 2, 2]              20\n",
            "          Dropout-28             [-1, 10, 2, 2]               0\n",
            "        AvgPool2d-29             [-1, 10, 1, 1]               0\n",
            "================================================================\n",
            "Total params: 31,134\n",
            "Trainable params: 31,134\n",
            "Non-trainable params: 0\n",
            "----------------------------------------------------------------\n",
            "Input size (MB): 0.00\n",
            "Forward/backward pass size (MB): 0.85\n",
            "Params size (MB): 0.12\n",
            "Estimated Total Size (MB): 0.97\n",
            "----------------------------------------------------------------\n"
          ],
          "name": "stdout"
        }
      ]
    },
    {
      "cell_type": "code",
      "metadata": {
        "colab": {
          "base_uri": "https://localhost:8080/",
          "height": 403,
          "referenced_widgets": [
            "2fc26ecdf44342df89a1ed4180c81540",
            "e9a2ef962fd54e8288d4ef85915e2c74",
            "b2a37575c1ea40a890acb6c60229c7d1",
            "a523c42817f74fa2932475ed0f5e43d5",
            "df1a5391290b48fb905c7498d9d8d9e4",
            "eac7283238e54ce4b4d62a2a03a56a84",
            "7da3676eabdd4e078ba338f77e68f47a",
            "46174315c5714bb5af94ae67402caad2",
            "d6529788e306423d999b24295bfdefe8",
            "96658966771e4c3e9d7d5c7747ea2f7b",
            "aa57e63baefb4643b7b3118845f688c9",
            "d121a664b2244ef69394f069852c80c4",
            "994274c42dba4c01882287ad3ec770b3",
            "a7e3c05640f344d298f3ebd290f2e71e",
            "dec0f7d7e2b3409e98346c188ca6ba67",
            "792b1314cd0d48469a7f67f3048c27b5",
            "2b27f57ee0824f0eb0e5d02f5fd5f7f8",
            "a78508bc3717428abf54d10dda2e5e92",
            "2aa7c92f5ff54a7abd1fce859068c551",
            "6d0231bc255645328224f25299d93804",
            "3c4106b32b974920813e10b6bb346968",
            "a4ff5ec93a224878b039b921b5396ebd",
            "df5e5559d36541e38b273135dc4d5a76",
            "26c832ad58f7495cbcd95acfea2de686",
            "23bba10958744bb9beac3ceea150d820",
            "cd2779e854bf4e13a88da787afc7ab18",
            "4db2f5f59e9c4da694a9c2a258986a7b",
            "331c012e0e934078bd944bf8d65f41b3",
            "ed23c66832f844c5a1e4b2978e0c4ff6",
            "7242620bf667482caf20e2e3b3a714af",
            "d38fd83421994ec4b2d167ebef678779",
            "a4b566cd1cc94b85bada06e407882f08"
          ]
        },
        "id": "b4up3Jt1uBuc",
        "outputId": "ffb86bf8-284b-4095-c35b-566474c80ae4"
      },
      "source": [
        "torch.manual_seed(1)\r\n",
        "batch_size = 128 # Initializing the batch size\r\n",
        "\r\n",
        "kwargs = {'num_workers': 1, 'pin_memory': True} if use_cuda else {}\r\n",
        "\r\n",
        "# downloading the train data\r\n",
        "train_loader = torch.utils.data.DataLoader(\r\n",
        "    datasets.MNIST('../data', train=True, down load=True,\r\n",
        "                    transform=transforms.Compose([\r\n",
        "                        transforms.ToTensor(),\r\n",
        "                        transforms.Normalize((0.1307,), (0.3081,))\r\n",
        "                    ])),\r\n",
        "    batch_size=batch_size, shuffle=True, **kwargs)\r\n",
        "\r\n",
        "# downloading the test data\r\n",
        "test_loader = torch.utils.data.DataLoader(\r\n",
        "    datasets.MNIST('../data', train=False, transform=transforms.Compose([\r\n",
        "                        transforms.ToTensor(),\r\n",
        "                        transforms.Normalize((0.1307,), (0.3081,))\r\n",
        "                    ])),\r\n",
        "    batch_size=batch_size, shuffle=True, **kwargs)"
      ],
      "execution_count": 4,
      "outputs": [
        {
          "output_type": "stream",
          "text": [
            "Downloading http://yann.lecun.com/exdb/mnist/train-images-idx3-ubyte.gz to ../data/MNIST/raw/train-images-idx3-ubyte.gz\n"
          ],
          "name": "stdout"
        },
        {
          "output_type": "display_data",
          "data": {
            "application/vnd.jupyter.widget-view+json": {
              "model_id": "2fc26ecdf44342df89a1ed4180c81540",
              "version_minor": 0,
              "version_major": 2
            },
            "text/plain": [
              "HBox(children=(FloatProgress(value=1.0, bar_style='info', max=1.0), HTML(value='')))"
            ]
          },
          "metadata": {
            "tags": []
          }
        },
        {
          "output_type": "stream",
          "text": [
            "Extracting ../data/MNIST/raw/train-images-idx3-ubyte.gz to ../data/MNIST/raw\n",
            "Downloading http://yann.lecun.com/exdb/mnist/train-labels-idx1-ubyte.gz to ../data/MNIST/raw/train-labels-idx1-ubyte.gz\n"
          ],
          "name": "stdout"
        },
        {
          "output_type": "display_data",
          "data": {
            "application/vnd.jupyter.widget-view+json": {
              "model_id": "d6529788e306423d999b24295bfdefe8",
              "version_minor": 0,
              "version_major": 2
            },
            "text/plain": [
              "HBox(children=(FloatProgress(value=1.0, bar_style='info', max=1.0), HTML(value='')))"
            ]
          },
          "metadata": {
            "tags": []
          }
        },
        {
          "output_type": "stream",
          "text": [
            "Extracting ../data/MNIST/raw/train-labels-idx1-ubyte.gz to ../data/MNIST/raw\n",
            "Downloading http://yann.lecun.com/exdb/mnist/t10k-images-idx3-ubyte.gz to ../data/MNIST/raw/t10k-images-idx3-ubyte.gz\n"
          ],
          "name": "stdout"
        },
        {
          "output_type": "display_data",
          "data": {
            "application/vnd.jupyter.widget-view+json": {
              "model_id": "2b27f57ee0824f0eb0e5d02f5fd5f7f8",
              "version_minor": 0,
              "version_major": 2
            },
            "text/plain": [
              "HBox(children=(FloatProgress(value=1.0, bar_style='info', max=1.0), HTML(value='')))"
            ]
          },
          "metadata": {
            "tags": []
          }
        },
        {
          "output_type": "stream",
          "text": [
            "Extracting ../data/MNIST/raw/t10k-images-idx3-ubyte.gz to ../data/MNIST/raw\n",
            "Downloading http://yann.lecun.com/exdb/mnist/t10k-labels-idx1-ubyte.gz to ../data/MNIST/raw/t10k-labels-idx1-ubyte.gz\n",
            "\n",
            "\n"
          ],
          "name": "stdout"
        },
        {
          "output_type": "display_data",
          "data": {
            "application/vnd.jupyter.widget-view+json": {
              "model_id": "23bba10958744bb9beac3ceea150d820",
              "version_minor": 0,
              "version_major": 2
            },
            "text/plain": [
              "HBox(children=(FloatProgress(value=1.0, bar_style='info', max=1.0), HTML(value='')))"
            ]
          },
          "metadata": {
            "tags": []
          }
        },
        {
          "output_type": "stream",
          "text": [
            "Extracting ../data/MNIST/raw/t10k-labels-idx1-ubyte.gz to ../data/MNIST/raw\n",
            "Processing...\n",
            "Done!\n"
          ],
          "name": "stdout"
        },
        {
          "output_type": "stream",
          "text": [
            "/usr/local/lib/python3.6/dist-packages/torchvision/datasets/mnist.py:480: UserWarning: The given NumPy array is not writeable, and PyTorch does not support non-writeable tensors. This means you can write to the underlying (supposedly non-writeable) NumPy array using the tensor. You may want to copy the array to protect its data or make it writeable before converting it to a tensor. This type of warning will be suppressed for the rest of this program. (Triggered internally at  /pytorch/torch/csrc/utils/tensor_numpy.cpp:141.)\n",
            "  return torch.from_numpy(parsed.astype(m[2], copy=False)).view(*s)\n"
          ],
          "name": "stderr"
        }
      ]
    },
    {
      "cell_type": "code",
      "metadata": {
        "id": "-EgCuX7nuEd0"
      },
      "source": [
        "from tqdm import tqdm\r\n",
        "def train(model, device, train_loader, optimizer, epoch):\r\n",
        "    model.train()\r\n",
        "    pbar = tqdm(train_loader)\r\n",
        "    for batch_idx, (data, target) in enumerate(pbar):\r\n",
        "        data, target = data.to(device), target.to(device)        # mapping image and labels data to GPU\r\n",
        "        optimizer.zero_grad()                                    # zero_grad() is to restart looping without losses from last step during training model\r\n",
        "        output = model(data)                                     # Pass Batch for prediction\r\n",
        "        loss = F.nll_loss(output, target)                        # Calculate Loss\r\n",
        "        loss.backward()                                          # Calculate Gradients\r\n",
        "        optimizer.step()                                         # Update Weights\r\n",
        "\r\n",
        "        pbar.set_description(desc= f'loss={loss.item()} batch_id={batch_idx}')\r\n",
        "\r\n",
        "\r\n",
        "def test(model, device, test_loader):\r\n",
        "    model.eval()\r\n",
        "    test_loss = 0\r\n",
        "    correct = 0\r\n",
        "    \r\n",
        "    with torch.no_grad():\r\n",
        "        for data, target in test_loader:\r\n",
        "            data, target = data.to(device), target.to(device)                # mapping image and labels data to GPU\r\n",
        "            output = model(data)                                             # Batch Prediction\r\n",
        "            test_loss += F.nll_loss(output, target, reduction='sum').item()  # sum up batch loss\r\n",
        "            pred = output.argmax(dim=1, keepdim=True)                        # get the index of the max log-probability\r\n",
        "            correct += pred.eq(target.view_as(pred)).sum().item()            # Calculate number of correct predictions\r\n",
        "    acc=(correct / len(test_loader.dataset))*100                             # Calculate accuracy\r\n",
        "    test_loss /= len(test_loader.dataset)                                    # Calculate test loss\r\n",
        "   \r\n",
        "   #Printing loss and accuracy of test data\r\n",
        "    print('\\nTest set: Average loss: {:.4f}, Accuracy: {}/{} ({:.1f}%)\\n'.format(   \r\n",
        "        test_loss, correct, len(test_loader.dataset),\r\n",
        "        100. * correct / len(test_loader.dataset)))\r\n",
        "    print(acc)\r\n",
        "    return acc"
      ],
      "execution_count": 5,
      "outputs": []
    },
    {
      "cell_type": "code",
      "metadata": {
        "colab": {
          "base_uri": "https://localhost:8080/"
        },
        "id": "7nleHNyMuGYE",
        "outputId": "c91b7ba2-ccef-41ac-a39f-f03516027dbc"
      },
      "source": [
        "model = Net().to(device)                                            # Map model to GPU\r\n",
        "optimizer = optim.SGD(model.parameters(), lr=0.01, momentum=0.9)    # set optimizer and learning rate\r\n",
        "Accuracy=[]                                                         # Initialize Accuracy list\r\n",
        "for epoch in range(20):                                             # looping 20 epohs\r\n",
        "    train(model, device, train_loader, optimizer, epoch)            # Train Model\r\n",
        "    Acc=test(model, device, test_loader)                            # Test data predictions and validation accuracy calculation\r\n",
        "    Accuracy.append(Acc)                                            # Appending validation Accuracy"
      ],
      "execution_count": 6,
      "outputs": [
        {
          "output_type": "stream",
          "text": [
            "loss=0.17666615545749664 batch_id=468: 100%|██████████| 469/469 [01:33<00:00,  5.02it/s]\n",
            "  0%|          | 0/469 [00:00<?, ?it/s]"
          ],
          "name": "stderr"
        },
        {
          "output_type": "stream",
          "text": [
            "\n",
            "Test set: Average loss: 0.0806, Accuracy: 9808/10000 (98.1%)\n",
            "\n",
            "98.08\n"
          ],
          "name": "stdout"
        },
        {
          "output_type": "stream",
          "text": [
            "loss=0.18378295004367828 batch_id=468: 100%|██████████| 469/469 [01:32<00:00,  5.05it/s]\n",
            "loss=0.14960487186908722 batch_id=0:   0%|          | 1/469 [00:00<01:31,  5.09it/s]"
          ],
          "name": "stderr"
        },
        {
          "output_type": "stream",
          "text": [
            "\n",
            "Test set: Average loss: 0.0487, Accuracy: 9875/10000 (98.8%)\n",
            "\n",
            "98.75\n"
          ],
          "name": "stdout"
        },
        {
          "output_type": "stream",
          "text": [
            "loss=0.11749603599309921 batch_id=468: 100%|██████████| 469/469 [01:32<00:00,  5.05it/s]\n",
            "  0%|          | 0/469 [00:00<?, ?it/s]"
          ],
          "name": "stderr"
        },
        {
          "output_type": "stream",
          "text": [
            "\n",
            "Test set: Average loss: 0.0377, Accuracy: 9887/10000 (98.9%)\n",
            "\n",
            "98.87\n"
          ],
          "name": "stdout"
        },
        {
          "output_type": "stream",
          "text": [
            "loss=0.16250644624233246 batch_id=468: 100%|██████████| 469/469 [01:32<00:00,  5.10it/s]\n",
            "loss=0.09386986494064331 batch_id=0:   0%|          | 1/469 [00:00<01:31,  5.12it/s]"
          ],
          "name": "stderr"
        },
        {
          "output_type": "stream",
          "text": [
            "\n",
            "Test set: Average loss: 0.0343, Accuracy: 9898/10000 (99.0%)\n",
            "\n",
            "98.98\n"
          ],
          "name": "stdout"
        },
        {
          "output_type": "stream",
          "text": [
            "loss=0.10713813453912735 batch_id=468: 100%|██████████| 469/469 [01:36<00:00,  4.88it/s]\n",
            "loss=0.07860592752695084 batch_id=0:   0%|          | 1/469 [00:00<01:30,  5.20it/s]"
          ],
          "name": "stderr"
        },
        {
          "output_type": "stream",
          "text": [
            "\n",
            "Test set: Average loss: 0.0302, Accuracy: 9909/10000 (99.1%)\n",
            "\n",
            "99.09\n"
          ],
          "name": "stdout"
        },
        {
          "output_type": "stream",
          "text": [
            "loss=0.3251085579395294 batch_id=468: 100%|██████████| 469/469 [01:31<00:00,  5.11it/s]\n",
            "loss=0.0575186088681221 batch_id=0:   0%|          | 1/469 [00:00<01:30,  5.14it/s]"
          ],
          "name": "stderr"
        },
        {
          "output_type": "stream",
          "text": [
            "\n",
            "Test set: Average loss: 0.0291, Accuracy: 9916/10000 (99.2%)\n",
            "\n",
            "99.16\n"
          ],
          "name": "stdout"
        },
        {
          "output_type": "stream",
          "text": [
            "loss=0.10077249258756638 batch_id=468: 100%|██████████| 469/469 [01:32<00:00,  5.09it/s]\n",
            "loss=0.03525306656956673 batch_id=0:   0%|          | 1/469 [00:00<01:30,  5.17it/s]"
          ],
          "name": "stderr"
        },
        {
          "output_type": "stream",
          "text": [
            "\n",
            "Test set: Average loss: 0.0283, Accuracy: 9918/10000 (99.2%)\n",
            "\n",
            "99.18\n"
          ],
          "name": "stdout"
        },
        {
          "output_type": "stream",
          "text": [
            "loss=0.06886891275644302 batch_id=468: 100%|██████████| 469/469 [01:32<00:00,  5.06it/s]\n",
            "loss=0.06135893240571022 batch_id=0:   0%|          | 1/469 [00:00<01:31,  5.14it/s]"
          ],
          "name": "stderr"
        },
        {
          "output_type": "stream",
          "text": [
            "\n",
            "Test set: Average loss: 0.0305, Accuracy: 9912/10000 (99.1%)\n",
            "\n",
            "99.11999999999999\n"
          ],
          "name": "stdout"
        },
        {
          "output_type": "stream",
          "text": [
            "loss=0.050967562943696976 batch_id=468: 100%|██████████| 469/469 [01:32<00:00,  5.09it/s]\n",
            "loss=0.1063770055770874 batch_id=0:   0%|          | 1/469 [00:00<01:29,  5.23it/s]"
          ],
          "name": "stderr"
        },
        {
          "output_type": "stream",
          "text": [
            "\n",
            "Test set: Average loss: 0.0295, Accuracy: 9915/10000 (99.2%)\n",
            "\n",
            "99.15\n"
          ],
          "name": "stdout"
        },
        {
          "output_type": "stream",
          "text": [
            "loss=0.07911922037601471 batch_id=468: 100%|██████████| 469/469 [01:31<00:00,  5.12it/s]\n",
            "loss=0.05232934653759003 batch_id=0:   0%|          | 1/469 [00:00<01:30,  5.18it/s]"
          ],
          "name": "stderr"
        },
        {
          "output_type": "stream",
          "text": [
            "\n",
            "Test set: Average loss: 0.0324, Accuracy: 9903/10000 (99.0%)\n",
            "\n",
            "99.03\n"
          ],
          "name": "stdout"
        },
        {
          "output_type": "stream",
          "text": [
            "loss=0.03684094548225403 batch_id=468: 100%|██████████| 469/469 [01:31<00:00,  5.13it/s]\n",
            "loss=0.053709808737039566 batch_id=0:   0%|          | 1/469 [00:00<01:30,  5.20it/s]"
          ],
          "name": "stderr"
        },
        {
          "output_type": "stream",
          "text": [
            "\n",
            "Test set: Average loss: 0.0276, Accuracy: 9921/10000 (99.2%)\n",
            "\n",
            "99.21\n"
          ],
          "name": "stdout"
        },
        {
          "output_type": "stream",
          "text": [
            "loss=0.056577298790216446 batch_id=468: 100%|██████████| 469/469 [01:31<00:00,  5.13it/s]\n",
            "loss=0.2015884816646576 batch_id=0:   0%|          | 1/469 [00:00<01:30,  5.17it/s]"
          ],
          "name": "stderr"
        },
        {
          "output_type": "stream",
          "text": [
            "\n",
            "Test set: Average loss: 0.0254, Accuracy: 9923/10000 (99.2%)\n",
            "\n",
            "99.22999999999999\n"
          ],
          "name": "stdout"
        },
        {
          "output_type": "stream",
          "text": [
            "loss=0.05924476683139801 batch_id=468: 100%|██████████| 469/469 [01:31<00:00,  5.11it/s]\n",
            "loss=0.06944452971220016 batch_id=0:   0%|          | 1/469 [00:00<01:30,  5.18it/s]"
          ],
          "name": "stderr"
        },
        {
          "output_type": "stream",
          "text": [
            "\n",
            "Test set: Average loss: 0.0215, Accuracy: 9941/10000 (99.4%)\n",
            "\n",
            "99.41\n"
          ],
          "name": "stdout"
        },
        {
          "output_type": "stream",
          "text": [
            "loss=0.060302723199129105 batch_id=468: 100%|██████████| 469/469 [01:31<00:00,  5.13it/s]\n",
            "loss=0.09916606545448303 batch_id=0:   0%|          | 1/469 [00:00<01:28,  5.29it/s]"
          ],
          "name": "stderr"
        },
        {
          "output_type": "stream",
          "text": [
            "\n",
            "Test set: Average loss: 0.0236, Accuracy: 9928/10000 (99.3%)\n",
            "\n",
            "99.28\n"
          ],
          "name": "stdout"
        },
        {
          "output_type": "stream",
          "text": [
            "loss=0.11448699980974197 batch_id=468: 100%|██████████| 469/469 [01:31<00:00,  5.12it/s]\n",
            "loss=0.03175964578986168 batch_id=0:   0%|          | 1/469 [00:00<01:29,  5.22it/s]"
          ],
          "name": "stderr"
        },
        {
          "output_type": "stream",
          "text": [
            "\n",
            "Test set: Average loss: 0.0240, Accuracy: 9934/10000 (99.3%)\n",
            "\n",
            "99.33999999999999\n"
          ],
          "name": "stdout"
        },
        {
          "output_type": "stream",
          "text": [
            "loss=0.11844459921121597 batch_id=468: 100%|██████████| 469/469 [01:32<00:00,  5.08it/s]\n",
            "loss=0.034721508622169495 batch_id=0:   0%|          | 1/469 [00:00<01:29,  5.23it/s]"
          ],
          "name": "stderr"
        },
        {
          "output_type": "stream",
          "text": [
            "\n",
            "Test set: Average loss: 0.0218, Accuracy: 9932/10000 (99.3%)\n",
            "\n",
            "99.32\n"
          ],
          "name": "stdout"
        },
        {
          "output_type": "stream",
          "text": [
            "loss=0.04034284129738808 batch_id=468: 100%|██████████| 469/469 [01:31<00:00,  5.11it/s]\n",
            "loss=0.021335873752832413 batch_id=0:   0%|          | 1/469 [00:00<01:29,  5.22it/s]"
          ],
          "name": "stderr"
        },
        {
          "output_type": "stream",
          "text": [
            "\n",
            "Test set: Average loss: 0.0264, Accuracy: 9924/10000 (99.2%)\n",
            "\n",
            "99.24\n"
          ],
          "name": "stdout"
        },
        {
          "output_type": "stream",
          "text": [
            "loss=0.04885600879788399 batch_id=468: 100%|██████████| 469/469 [01:31<00:00,  5.11it/s]\n",
            "loss=0.04364299774169922 batch_id=0:   0%|          | 1/469 [00:00<01:30,  5.20it/s]"
          ],
          "name": "stderr"
        },
        {
          "output_type": "stream",
          "text": [
            "\n",
            "Test set: Average loss: 0.0203, Accuracy: 9940/10000 (99.4%)\n",
            "\n",
            "99.4\n"
          ],
          "name": "stdout"
        },
        {
          "output_type": "stream",
          "text": [
            "loss=0.013296467252075672 batch_id=468: 100%|██████████| 469/469 [01:32<00:00,  5.09it/s]\n",
            "loss=0.05382835119962692 batch_id=0:   0%|          | 1/469 [00:00<01:31,  5.13it/s]"
          ],
          "name": "stderr"
        },
        {
          "output_type": "stream",
          "text": [
            "\n",
            "Test set: Average loss: 0.0226, Accuracy: 9930/10000 (99.3%)\n",
            "\n",
            "99.3\n"
          ],
          "name": "stdout"
        },
        {
          "output_type": "stream",
          "text": [
            "loss=0.03570051118731499 batch_id=468: 100%|██████████| 469/469 [01:32<00:00,  5.09it/s]\n"
          ],
          "name": "stderr"
        },
        {
          "output_type": "stream",
          "text": [
            "\n",
            "Test set: Average loss: 0.0235, Accuracy: 9932/10000 (99.3%)\n",
            "\n",
            "99.32\n"
          ],
          "name": "stdout"
        }
      ]
    },
    {
      "cell_type": "code",
      "metadata": {
        "colab": {
          "base_uri": "https://localhost:8080/",
          "height": 302
        },
        "id": "1rNKe2c_uIdE",
        "outputId": "d17ad0a0-5293-4374-b5ce-a937f81003eb"
      },
      "source": [
        "import matplotlib.pyplot as plt\r\n",
        "Accuracy_list = [ '%.1f' % elem for elem in Accuracy ] # Validation accuracy to comvet into 1 decimal point\r\n",
        "print(Accuracy_list)                                   # Printing Accuracy of test data\r\n",
        "plt.plot(Accuracy_list)                                # Plotting Accuracy\r\n",
        "plt.ylabel('Accuracy Percentage')                      # Labelling Y axis\r\n",
        "plt.show()                                             # Plot graph"
      ],
      "execution_count": 8,
      "outputs": [
        {
          "output_type": "stream",
          "text": [
            "['98.1', '98.8', '98.9', '99.0', '99.1', '99.2', '99.2', '99.1', '99.2', '99.0', '99.2', '99.2', '99.4', '99.3', '99.3', '99.3', '99.2', '99.4', '99.3', '99.3']\n"
          ],
          "name": "stdout"
        },
        {
          "output_type": "display_data",
          "data": {
            "image/png": "[encoded data removed]",
            "text/plain": [
              "<Figure size 432x288 with 1 Axes>"
            ]
          },
          "metadata": {
            "tags": [],
            "needs_background": "light"
          }
        }
      ]
    }
  ]
}